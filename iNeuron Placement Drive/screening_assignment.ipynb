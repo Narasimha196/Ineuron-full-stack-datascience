{
 "cells": [
  {
   "cell_type": "markdown",
   "id": "fdae0bd6",
   "metadata": {},
   "source": [
    "# Python Screening Assignment"
   ]
  },
  {
   "cell_type": "markdown",
   "id": "25dce8c1",
   "metadata": {},
   "source": [
    "## Question:1\n",
    "## Create a function in python to read the text file and replace specific content of the file."
   ]
  },
  {
   "cell_type": "code",
   "execution_count": 1,
   "id": "4b8842f9",
   "metadata": {},
   "outputs": [],
   "source": [
    "# opening a file \n",
    "file = open('example.txt', 'w')\n",
    "\n",
    "# writing data using the write() method\n",
    "file.write(\"This is a placement assignment\")\n",
    "\n",
    "# close the file\n",
    "file.close()"
   ]
  },
  {
   "cell_type": "code",
   "execution_count": 4,
   "id": "6d07be93",
   "metadata": {},
   "outputs": [],
   "source": [
    "# creating a variable and storing the text\n",
    "# that we want to search\n",
    "find_text = \"placement\"\n",
    "\n",
    "# creating a variable and storing the text\n",
    "# that we want to add\n",
    "rename_text = \"screening\""
   ]
  },
  {
   "cell_type": "code",
   "execution_count": 9,
   "id": "4cc2d606",
   "metadata": {},
   "outputs": [],
   "source": [
    "def replace_string(file):\n",
    "    with open(r'example.txt', 'r') as file:\n",
    "        data = file.read()\n",
    "        data = data.replace(find_text, rename_text)\n",
    "        file.close\n",
    "    with open(r'example.txt', 'w') as file:\n",
    "        file.write(data)\n",
    "        file.close"
   ]
  },
  {
   "cell_type": "code",
   "execution_count": 10,
   "id": "14241ab0",
   "metadata": {},
   "outputs": [],
   "source": [
    "replace_string('example.txt')"
   ]
  },
  {
   "cell_type": "markdown",
   "id": "81b90dd6",
   "metadata": {},
   "source": [
    "# Question:2 \n",
    "## Demonstrate use of abstract class, multiple inheritance and decorator in python using examples."
   ]
  },
  {
   "cell_type": "markdown",
   "id": "c0cc71fc",
   "metadata": {},
   "source": [
    "## Abstract Class"
   ]
  },
  {
   "cell_type": "code",
   "execution_count": 12,
   "id": "bae1733d",
   "metadata": {},
   "outputs": [
    {
     "name": "stdout",
     "output_type": "stream",
     "text": [
      "Fruit is Grapes and its Color is black\n"
     ]
    }
   ],
   "source": [
    "class Fruit:\n",
    "    def __init__(self, name, color):\n",
    "        self.name = name\n",
    "        self.color = color\n",
    "        \n",
    "    def show(self):\n",
    "        print(\"Fruit is\", self.name, \"and its Color is\", self.color)\n",
    "\n",
    "# creating object of the class\n",
    "obj = Fruit(\"Grapes\", \"black\")   \n",
    "\n",
    "# calling the instance method using the object\n",
    "obj.show()                   "
   ]
  },
  {
   "cell_type": "markdown",
   "id": "bc48e7a3",
   "metadata": {},
   "source": [
    "##  Multiple Inheritance"
   ]
  },
  {
   "cell_type": "code",
   "execution_count": 20,
   "id": "24a80d4b",
   "metadata": {},
   "outputs": [
    {
     "name": "stdout",
     "output_type": "stream",
     "text": [
      "Inside Person class\n",
      "Name: Narasimha Age: 33\n",
      "Inside organization class\n",
      "Name: Ineuron place: banglore\n",
      "Inside Employee class\n",
      "Salary: 70000 Skills: Python and Machine Learning\n"
     ]
    }
   ],
   "source": [
    "# First base class\n",
    "class Person:\n",
    "    def person_info(self, name, age):\n",
    "        print('Inside Person class')\n",
    "        print('Name:', name, 'Age:', age)\n",
    "\n",
    "# Second base class\n",
    "class Organization:\n",
    "    def org_info(self, org_name, place):\n",
    "        print('Inside organization class')\n",
    "        print('Name:', org_name, 'place:', place)\n",
    "\n",
    "# Derived class\n",
    "class Employee(Person, Organization):\n",
    "    def Employee_info(self, salary, tech_skills1,tech_skills2):\n",
    "        print('Inside Employee class')\n",
    "        print('Salary:', salary, 'Skills:', tech_skills1,tech_skills2)\n",
    "\n",
    "# Create object of Employee\n",
    "emp = Employee()\n",
    "\n",
    "# access data\n",
    "emp.person_info('Narasimha', 33)\n",
    "emp.org_info('Ineuron', 'banglore')\n",
    "emp.Employee_info(70000, 'Python and','Machine Learning')"
   ]
  },
  {
   "cell_type": "markdown",
   "id": "7d5eba95",
   "metadata": {},
   "source": [
    "## Decorator"
   ]
  },
  {
   "cell_type": "markdown",
   "id": "27183bd2",
   "metadata": {},
   "source": [
    "* A decorator is a design pattern in Python that allows a user to add new functionality to an existing object without modifying its structure. \n",
    "\n",
    "* Decorators are usually called before the definition of a function you want to decorate."
   ]
  },
  {
   "cell_type": "code",
   "execution_count": 23,
   "id": "3998d55b",
   "metadata": {},
   "outputs": [
    {
     "name": "stdout",
     "output_type": "stream",
     "text": [
      "welcome to datascience\n"
     ]
    }
   ],
   "source": [
    "# Normal function\n",
    "def greeting():\n",
    "    return 'Welcome to Datascience'\n",
    "\n",
    "def lowercase_decorator(function):\n",
    "    def wrapper():\n",
    "        func = function()\n",
    "        to_lowercase = func.lower()\n",
    "        return to_lowercase\n",
    "    return wrapper\n",
    "g = lowercase_decorator(greeting)\n",
    "print(g())       "
   ]
  },
  {
   "cell_type": "code",
   "execution_count": 27,
   "id": "3c928f11",
   "metadata": {},
   "outputs": [
    {
     "name": "stdout",
     "output_type": "stream",
     "text": [
      "welcome to datascience\n"
     ]
    }
   ],
   "source": [
    "# adding decorator to the above function\n",
    "def lowercase_decorator(function):\n",
    "    def wrapper():\n",
    "        func = function()\n",
    "        to_lowercase = func.lower()\n",
    "        return to_lowercase\n",
    "    return wrapper\n",
    "\n",
    "@lowercase_decorator\n",
    "def greeting():\n",
    "    return 'Welcome to datascience'\n",
    "print(greeting()) "
   ]
  },
  {
   "cell_type": "code",
   "execution_count": null,
   "id": "c35296c3",
   "metadata": {},
   "outputs": [],
   "source": []
  }
 ],
 "metadata": {
  "kernelspec": {
   "display_name": "Python 3",
   "language": "python",
   "name": "python3"
  },
  "language_info": {
   "codemirror_mode": {
    "name": "ipython",
    "version": 3
   },
   "file_extension": ".py",
   "mimetype": "text/x-python",
   "name": "python",
   "nbconvert_exporter": "python",
   "pygments_lexer": "ipython3",
   "version": "3.8.8"
  }
 },
 "nbformat": 4,
 "nbformat_minor": 5
}
